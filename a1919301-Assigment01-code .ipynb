{
 "cells": [
  {
   "cell_type": "markdown",
   "id": "23fc0161-cf5c-4677-8c50-5fcfbe9c7491",
   "metadata": {},
   "source": [
    "#### Importing Packages"
   ]
  },
  {
   "cell_type": "code",
   "execution_count": 25,
   "id": "83f0b242-a40c-403d-a83d-9e31fe08fc0d",
   "metadata": {},
   "outputs": [],
   "source": [
    "import matplotlib.pyplot as plt\n",
    "import pandas as pd\n",
    "import numpy as np\n",
    "import pandas as pd\n",
    "import numpy as np\n",
    "import random\n",
    "import tensorflow as tf\n",
    "from keras.optimizers import SGD\n",
    "from keras.optimizers import Adam\n",
    "from sklearn.model_selection import train_test_split\n",
    "from tensorflow.keras.models import Sequential\n",
    "from tensorflow.keras.layers import Dense\n",
    "from tensorflow.keras.optimizers import SGD\n",
    "from tensorflow.keras.losses import BinaryCrossentropy\n",
    "from sklearn.utils import class_weight\n",
    "from sklearn.preprocessing import StandardScaler\n",
    "from sklearn.metrics import classification_report,confusion_matrix\n",
    "from keras.layers import Dense, Input\n",
    "from sklearn.linear_model import LogisticRegression"
   ]
  },
  {
   "cell_type": "markdown",
   "id": "e7c90586-3005-40d7-9b1e-464816b4d048",
   "metadata": {},
   "source": [
    "#### Data Acquisition and Analysis"
   ]
  },
  {
   "cell_type": "code",
   "execution_count": 26,
   "id": "a4295902-c6b9-43df-8af6-cc9cd3ba5cad",
   "metadata": {},
   "outputs": [],
   "source": [
    "data = pd.read_csv('./data/diabetes.csv', header=None)"
   ]
  },
  {
   "cell_type": "code",
   "execution_count": 27,
   "id": "edfdb017-f125-4f98-b4dd-48fb8c0b3a8f",
   "metadata": {},
   "outputs": [
    {
     "name": "stdout",
     "output_type": "stream",
     "text": [
      "Data shape: (768, 9)\n",
      "First few rows of the dataset:\n",
      "   0  1    2   3   4    5     6      7   8\n",
      "0  1  6  148  72  35    0  33.6  0.627  50\n",
      "1  0  1   85  66  29    0  26.6  0.351  31\n",
      "2  1  8  183  64   0    0  23.3  0.672  32\n",
      "3  0  1   89  66  23   94  28.1  0.167  21\n",
      "4  1  0  137  40  35  168  43.1  2.288  33\n"
     ]
    }
   ],
   "source": [
    "print(\"Data shape:\", data.shape)\n",
    "print(\"First few rows of the dataset:\")\n",
    "print(data.head())"
   ]
  },
  {
   "cell_type": "code",
   "execution_count": 28,
   "id": "c88b92b6-ef27-4170-a9b2-d74ae6ffe5da",
   "metadata": {},
   "outputs": [
    {
     "name": "stdout",
     "output_type": "stream",
     "text": [
      "                0           1           2           3           4           5  \\\n",
      "count  768.000000  768.000000  768.000000  768.000000  768.000000  768.000000   \n",
      "mean     0.348958    3.845052  120.894531   69.105469   20.536458   79.799479   \n",
      "std      0.476951    3.369578   31.972618   19.355807   15.952218  115.244002   \n",
      "min      0.000000    0.000000    0.000000    0.000000    0.000000    0.000000   \n",
      "25%      0.000000    1.000000   99.000000   62.000000    0.000000    0.000000   \n",
      "50%      0.000000    3.000000  117.000000   72.000000   23.000000   30.500000   \n",
      "75%      1.000000    6.000000  140.250000   80.000000   32.000000  127.250000   \n",
      "max      1.000000   17.000000  199.000000  122.000000   99.000000  846.000000   \n",
      "\n",
      "                6           7           8  \n",
      "count  768.000000  768.000000  768.000000  \n",
      "mean    31.992578    0.471876   33.240885  \n",
      "std      7.884160    0.331329   11.760232  \n",
      "min      0.000000    0.078000   21.000000  \n",
      "25%     27.300000    0.243750   24.000000  \n",
      "50%     32.000000    0.372500   29.000000  \n",
      "75%     36.600000    0.626250   41.000000  \n",
      "max     67.100000    2.420000   81.000000  \n"
     ]
    }
   ],
   "source": [
    "print(data.describe()) "
   ]
  },
  {
   "cell_type": "code",
   "execution_count": 29,
   "id": "48e62f50-58dc-4b70-b40c-3722077988d5",
   "metadata": {},
   "outputs": [
    {
     "name": "stdout",
     "output_type": "stream",
     "text": [
      "0    0\n",
      "1    0\n",
      "2    0\n",
      "3    0\n",
      "4    0\n",
      "5    0\n",
      "6    0\n",
      "7    0\n",
      "8    0\n",
      "dtype: int64\n"
     ]
    }
   ],
   "source": [
    "# Checking for any missing values in the original data set\n",
    "missing_values = data.isnull().sum()\n",
    "print(missing_values)"
   ]
  },
  {
   "cell_type": "markdown",
   "id": "d2f5786b-5ab3-4835-a5bd-29c5ea3ff6d8",
   "metadata": {},
   "source": [
    "#### Data Preparation"
   ]
  },
  {
   "cell_type": "code",
   "execution_count": 30,
   "id": "310fc139-02af-4c78-9ce2-5c27dd90bc3a",
   "metadata": {},
   "outputs": [
    {
     "name": "stdout",
     "output_type": "stream",
     "text": [
      "Features shape (X): (768, 8)\n",
      "Labels shape (y): (768,)\n"
     ]
    }
   ],
   "source": [
    "X = data.iloc[:, 1:].to_numpy()  # All columns except the first one (features)\n",
    "y = data.iloc[:, 0].to_numpy()   # First column as the labels\n",
    "\n",
    "# Print the shape of X and y to verify\n",
    "print(\"Features shape (X):\", X.shape)\n",
    "print(\"Labels shape (y):\", y.shape)"
   ]
  },
  {
   "cell_type": "code",
   "execution_count": 31,
   "id": "6cb4d9fb-2827-4d7e-9c75-6145600f38c6",
   "metadata": {},
   "outputs": [
    {
     "name": "stdout",
     "output_type": "stream",
     "text": [
      "{0: 500, 1: 268}\n"
     ]
    }
   ],
   "source": [
    "# Checking for data immbalance \n",
    "unique, counts = np.unique(y, return_counts=True)\n",
    "print(dict(zip(unique, counts)))"
   ]
  },
  {
   "cell_type": "markdown",
   "id": "a3e32f7d-9423-4894-a0ae-4adeedf3fa84",
   "metadata": {},
   "source": [
    "The above code illustrates that there is an imbalance in data. The data is more biased towards 0 labels than 1. To handle this situation, the model was trained with two approaches. 1 - Model development by adding weights  2. Model development by introducing Focal loss. "
   ]
  },
  {
   "cell_type": "code",
   "execution_count": 32,
   "id": "45027963-1987-4dd6-8629-8ee0f6ef9e1e",
   "metadata": {},
   "outputs": [],
   "source": [
    "# Scale the data \n",
    "scaler = StandardScaler()\n",
    "X_scaled = scaler.fit_transform(X)"
   ]
  },
  {
   "cell_type": "code",
   "execution_count": 33,
   "id": "1293d5c0-e7e7-4f67-8efe-e4c20fe3f4dc",
   "metadata": {},
   "outputs": [
    {
     "name": "stdout",
     "output_type": "stream",
     "text": [
      "Features shape (X_Scaled): (768, 8)\n"
     ]
    }
   ],
   "source": [
    "print(\"Features shape (X_Scaled):\", X_scaled.shape)"
   ]
  },
  {
   "cell_type": "code",
   "execution_count": 34,
   "id": "503236d4-15f3-4a4a-8704-999a23cd6909",
   "metadata": {},
   "outputs": [],
   "source": [
    "random.seed(42)\n",
    "np.random.seed(42)\n",
    "tf.random.set_seed(42)"
   ]
  },
  {
   "cell_type": "code",
   "execution_count": 35,
   "id": "38dbb1f1-66fd-4481-bd33-61c7dfaf087e",
   "metadata": {},
   "outputs": [],
   "source": [
    "X_train, X_test, y_train, y_test = train_test_split(X_scaled, y, test_size=0.2, random_state=42)"
   ]
  },
  {
   "cell_type": "markdown",
   "id": "62cd11b6-705f-4f77-b997-515b8ac16681",
   "metadata": {},
   "source": [
    "#### Define a single-layer perception model"
   ]
  },
  {
   "cell_type": "code",
   "execution_count": 36,
   "id": "3535c1eb-6b05-4b93-8e69-dc7974c18e95",
   "metadata": {},
   "outputs": [],
   "source": [
    "model = Sequential()"
   ]
  },
  {
   "cell_type": "code",
   "execution_count": 37,
   "id": "82be4a22-1c52-488e-9948-410ccea62f6d",
   "metadata": {},
   "outputs": [],
   "source": [
    "model.add(Input(shape=(8,)))"
   ]
  },
  {
   "cell_type": "code",
   "execution_count": 38,
   "id": "5bd17143-3676-4107-bd09-e2f8c6de60ee",
   "metadata": {},
   "outputs": [],
   "source": [
    "# Parameters\n",
    "\n",
    "Activation_func = \"sigmoid\"\n",
    "learning_rate = 0.001\n",
    "Momentum = 0.9\n",
    "Loss_gamma = 1.5\n",
    "Loss_alpha = 0.35\n",
    "Epochs = 50\n",
    "Batch_size = 32\n",
    "Optimizer = 'SGD'"
   ]
  },
  {
   "cell_type": "code",
   "execution_count": 39,
   "id": "50882c55-37e7-4cdd-bfe7-1164b2640e14",
   "metadata": {},
   "outputs": [],
   "source": [
    "#Adding One Dense Layer to build single layer perceptron\n",
    "model.add(Dense(1, activation=Activation_func))"
   ]
  },
  {
   "cell_type": "code",
   "execution_count": 40,
   "id": "074738b3-b29e-43bc-9012-b2d2bf18b0a4",
   "metadata": {},
   "outputs": [],
   "source": [
    "optimizer = SGD(learning_rate=learning_rate , momentum=Momentum)\n",
    "#optimizer = Adam(learning_rate=0.01)"
   ]
  },
  {
   "cell_type": "markdown",
   "id": "b910da74-5c17-43d0-867e-b401cb63952d",
   "metadata": {},
   "source": [
    "###### Defining a Loss Function"
   ]
  },
  {
   "cell_type": "code",
   "execution_count": 41,
   "id": "84d5be5c-8156-466e-a627-6d0637b728f5",
   "metadata": {},
   "outputs": [],
   "source": [
    "def focal_loss(gamma, alpha):\n",
    "    \"\"\"\n",
    "    Focal Loss for binary classification.\n",
    "    \n",
    "    Parameters:\n",
    "    gamma -- focusing parameter \n",
    "    alpha -- weight factor for the positive class \n",
    "    \"\"\"\n",
    "    def focal_loss_fixed(y_true, y_pred):\n",
    "        # Clip predictions to prevent log(0)\n",
    "        y_pred = tf.clip_by_value(y_pred, tf.keras.backend.epsilon(), 1 - tf.keras.backend.epsilon())\n",
    "        \n",
    "        # Cross entropy\n",
    "        cross_entropy = -y_true * tf.math.log(y_pred)\n",
    "        \n",
    "        # Modulating factor (1 - p_t)^gamma\n",
    "        modulating_factor = tf.pow(1. - y_pred, gamma)\n",
    "        \n",
    "        # Apply alpha weighting\n",
    "        loss = alpha * modulating_factor * cross_entropy\n",
    "        \n",
    "        return tf.reduce_sum(loss, axis=-1)\n",
    "    \n",
    "    return focal_loss_fixed"
   ]
  },
  {
   "cell_type": "code",
   "execution_count": 42,
   "id": "725f1a2f-86ad-4a53-8df9-2239568a3689",
   "metadata": {},
   "outputs": [],
   "source": [
    "# Compile the model with focal loss\n",
    "model.compile(optimizer=optimizer, loss=focal_loss(gamma=Loss_gamma, alpha=Loss_alpha), metrics=['accuracy'])"
   ]
  },
  {
   "cell_type": "markdown",
   "id": "b37f241d-6619-4ee3-97c7-20faa03bd53c",
   "metadata": {},
   "source": [
    "#### Model Training and Tuning"
   ]
  },
  {
   "cell_type": "code",
   "execution_count": 43,
   "id": "6f803b0d-73d3-4f36-97de-eff0f302b83a",
   "metadata": {},
   "outputs": [
    {
     "name": "stdout",
     "output_type": "stream",
     "text": [
      "Epoch 1/50\n",
      "\u001b[1m16/16\u001b[0m \u001b[32m━━━━━━━━━━━━━━━━━━━━\u001b[0m\u001b[37m\u001b[0m \u001b[1m2s\u001b[0m 41ms/step - accuracy: 0.5983 - loss: 0.0563 - val_accuracy: 0.5447 - val_loss: 0.0585\n",
      "Epoch 2/50\n",
      "\u001b[1m16/16\u001b[0m \u001b[32m━━━━━━━━━━━━━━━━━━━━\u001b[0m\u001b[37m\u001b[0m \u001b[1m0s\u001b[0m 6ms/step - accuracy: 0.6042 - loss: 0.0557 - val_accuracy: 0.5528 - val_loss: 0.0578\n",
      "Epoch 3/50\n",
      "\u001b[1m16/16\u001b[0m \u001b[32m━━━━━━━━━━━━━━━━━━━━\u001b[0m\u001b[37m\u001b[0m \u001b[1m0s\u001b[0m 6ms/step - accuracy: 0.6042 - loss: 0.0549 - val_accuracy: 0.5610 - val_loss: 0.0570\n",
      "Epoch 4/50\n",
      "\u001b[1m16/16\u001b[0m \u001b[32m━━━━━━━━━━━━━━━━━━━━\u001b[0m\u001b[37m\u001b[0m \u001b[1m0s\u001b[0m 6ms/step - accuracy: 0.6105 - loss: 0.0540 - val_accuracy: 0.5610 - val_loss: 0.0562\n",
      "Epoch 5/50\n",
      "\u001b[1m16/16\u001b[0m \u001b[32m━━━━━━━━━━━━━━━━━━━━\u001b[0m\u001b[37m\u001b[0m \u001b[1m0s\u001b[0m 6ms/step - accuracy: 0.6054 - loss: 0.0532 - val_accuracy: 0.5610 - val_loss: 0.0554\n",
      "Epoch 6/50\n",
      "\u001b[1m16/16\u001b[0m \u001b[32m━━━━━━━━━━━━━━━━━━━━\u001b[0m\u001b[37m\u001b[0m \u001b[1m0s\u001b[0m 5ms/step - accuracy: 0.6070 - loss: 0.0524 - val_accuracy: 0.5610 - val_loss: 0.0547\n",
      "Epoch 7/50\n",
      "\u001b[1m16/16\u001b[0m \u001b[32m━━━━━━━━━━━━━━━━━━━━\u001b[0m\u001b[37m\u001b[0m \u001b[1m0s\u001b[0m 7ms/step - accuracy: 0.6095 - loss: 0.0516 - val_accuracy: 0.5610 - val_loss: 0.0539\n",
      "Epoch 8/50\n",
      "\u001b[1m16/16\u001b[0m \u001b[32m━━━━━━━━━━━━━━━━━━━━\u001b[0m\u001b[37m\u001b[0m \u001b[1m0s\u001b[0m 6ms/step - accuracy: 0.6095 - loss: 0.0508 - val_accuracy: 0.5610 - val_loss: 0.0532\n",
      "Epoch 9/50\n",
      "\u001b[1m16/16\u001b[0m \u001b[32m━━━━━━━━━━━━━━━━━━━━\u001b[0m\u001b[37m\u001b[0m \u001b[1m0s\u001b[0m 6ms/step - accuracy: 0.6100 - loss: 0.0500 - val_accuracy: 0.5610 - val_loss: 0.0525\n",
      "Epoch 10/50\n",
      "\u001b[1m16/16\u001b[0m \u001b[32m━━━━━━━━━━━━━━━━━━━━\u001b[0m\u001b[37m\u001b[0m \u001b[1m0s\u001b[0m 6ms/step - accuracy: 0.6100 - loss: 0.0493 - val_accuracy: 0.5610 - val_loss: 0.0518\n",
      "Epoch 11/50\n",
      "\u001b[1m16/16\u001b[0m \u001b[32m━━━━━━━━━━━━━━━━━━━━\u001b[0m\u001b[37m\u001b[0m \u001b[1m0s\u001b[0m 6ms/step - accuracy: 0.6145 - loss: 0.0485 - val_accuracy: 0.5610 - val_loss: 0.0511\n",
      "Epoch 12/50\n",
      "\u001b[1m16/16\u001b[0m \u001b[32m━━━━━━━━━━━━━━━━━━━━\u001b[0m\u001b[37m\u001b[0m \u001b[1m0s\u001b[0m 5ms/step - accuracy: 0.6190 - loss: 0.0478 - val_accuracy: 0.5610 - val_loss: 0.0504\n",
      "Epoch 13/50\n",
      "\u001b[1m16/16\u001b[0m \u001b[32m━━━━━━━━━━━━━━━━━━━━\u001b[0m\u001b[37m\u001b[0m \u001b[1m0s\u001b[0m 7ms/step - accuracy: 0.6190 - loss: 0.0471 - val_accuracy: 0.5691 - val_loss: 0.0497\n",
      "Epoch 14/50\n",
      "\u001b[1m16/16\u001b[0m \u001b[32m━━━━━━━━━━━━━━━━━━━━\u001b[0m\u001b[37m\u001b[0m \u001b[1m0s\u001b[0m 7ms/step - accuracy: 0.6190 - loss: 0.0464 - val_accuracy: 0.5691 - val_loss: 0.0491\n",
      "Epoch 15/50\n",
      "\u001b[1m16/16\u001b[0m \u001b[32m━━━━━━━━━━━━━━━━━━━━\u001b[0m\u001b[37m\u001b[0m \u001b[1m0s\u001b[0m 11ms/step - accuracy: 0.6247 - loss: 0.0457 - val_accuracy: 0.5691 - val_loss: 0.0485\n",
      "Epoch 16/50\n",
      "\u001b[1m16/16\u001b[0m \u001b[32m━━━━━━━━━━━━━━━━━━━━\u001b[0m\u001b[37m\u001b[0m \u001b[1m0s\u001b[0m 6ms/step - accuracy: 0.6311 - loss: 0.0450 - val_accuracy: 0.5691 - val_loss: 0.0478\n",
      "Epoch 17/50\n",
      "\u001b[1m16/16\u001b[0m \u001b[32m━━━━━━━━━━━━━━━━━━━━\u001b[0m\u001b[37m\u001b[0m \u001b[1m0s\u001b[0m 6ms/step - accuracy: 0.6281 - loss: 0.0443 - val_accuracy: 0.5610 - val_loss: 0.0472\n",
      "Epoch 18/50\n",
      "\u001b[1m16/16\u001b[0m \u001b[32m━━━━━━━━━━━━━━━━━━━━\u001b[0m\u001b[37m\u001b[0m \u001b[1m0s\u001b[0m 6ms/step - accuracy: 0.6281 - loss: 0.0437 - val_accuracy: 0.5610 - val_loss: 0.0466\n",
      "Epoch 19/50\n",
      "\u001b[1m16/16\u001b[0m \u001b[32m━━━━━━━━━━━━━━━━━━━━\u001b[0m\u001b[37m\u001b[0m \u001b[1m0s\u001b[0m 6ms/step - accuracy: 0.6273 - loss: 0.0430 - val_accuracy: 0.5610 - val_loss: 0.0460\n",
      "Epoch 20/50\n",
      "\u001b[1m16/16\u001b[0m \u001b[32m━━━━━━━━━━━━━━━━━━━━\u001b[0m\u001b[37m\u001b[0m \u001b[1m0s\u001b[0m 6ms/step - accuracy: 0.6258 - loss: 0.0424 - val_accuracy: 0.5610 - val_loss: 0.0454\n",
      "Epoch 21/50\n",
      "\u001b[1m16/16\u001b[0m \u001b[32m━━━━━━━━━━━━━━━━━━━━\u001b[0m\u001b[37m\u001b[0m \u001b[1m0s\u001b[0m 5ms/step - accuracy: 0.6222 - loss: 0.0418 - val_accuracy: 0.5691 - val_loss: 0.0449\n",
      "Epoch 22/50\n",
      "\u001b[1m16/16\u001b[0m \u001b[32m━━━━━━━━━━━━━━━━━━━━\u001b[0m\u001b[37m\u001b[0m \u001b[1m0s\u001b[0m 5ms/step - accuracy: 0.6297 - loss: 0.0412 - val_accuracy: 0.5772 - val_loss: 0.0443\n",
      "Epoch 23/50\n",
      "\u001b[1m16/16\u001b[0m \u001b[32m━━━━━━━━━━━━━━━━━━━━\u001b[0m\u001b[37m\u001b[0m \u001b[1m0s\u001b[0m 5ms/step - accuracy: 0.6297 - loss: 0.0406 - val_accuracy: 0.5772 - val_loss: 0.0437\n",
      "Epoch 24/50\n",
      "\u001b[1m16/16\u001b[0m \u001b[32m━━━━━━━━━━━━━━━━━━━━\u001b[0m\u001b[37m\u001b[0m \u001b[1m0s\u001b[0m 6ms/step - accuracy: 0.6272 - loss: 0.0400 - val_accuracy: 0.5854 - val_loss: 0.0432\n",
      "Epoch 25/50\n",
      "\u001b[1m16/16\u001b[0m \u001b[32m━━━━━━━━━━━━━━━━━━━━\u001b[0m\u001b[37m\u001b[0m \u001b[1m0s\u001b[0m 6ms/step - accuracy: 0.6239 - loss: 0.0395 - val_accuracy: 0.5854 - val_loss: 0.0427\n",
      "Epoch 26/50\n",
      "\u001b[1m16/16\u001b[0m \u001b[32m━━━━━━━━━━━━━━━━━━━━\u001b[0m\u001b[37m\u001b[0m \u001b[1m0s\u001b[0m 5ms/step - accuracy: 0.6239 - loss: 0.0389 - val_accuracy: 0.5854 - val_loss: 0.0422\n",
      "Epoch 27/50\n",
      "\u001b[1m16/16\u001b[0m \u001b[32m━━━━━━━━━━━━━━━━━━━━\u001b[0m\u001b[37m\u001b[0m \u001b[1m0s\u001b[0m 5ms/step - accuracy: 0.6223 - loss: 0.0384 - val_accuracy: 0.5854 - val_loss: 0.0416\n",
      "Epoch 28/50\n",
      "\u001b[1m16/16\u001b[0m \u001b[32m━━━━━━━━━━━━━━━━━━━━\u001b[0m\u001b[37m\u001b[0m \u001b[1m0s\u001b[0m 5ms/step - accuracy: 0.6263 - loss: 0.0378 - val_accuracy: 0.5772 - val_loss: 0.0411\n",
      "Epoch 29/50\n",
      "\u001b[1m16/16\u001b[0m \u001b[32m━━━━━━━━━━━━━━━━━━━━\u001b[0m\u001b[37m\u001b[0m \u001b[1m0s\u001b[0m 5ms/step - accuracy: 0.6265 - loss: 0.0373 - val_accuracy: 0.5772 - val_loss: 0.0406\n",
      "Epoch 30/50\n",
      "\u001b[1m16/16\u001b[0m \u001b[32m━━━━━━━━━━━━━━━━━━━━\u001b[0m\u001b[37m\u001b[0m \u001b[1m0s\u001b[0m 5ms/step - accuracy: 0.6310 - loss: 0.0368 - val_accuracy: 0.5772 - val_loss: 0.0402\n",
      "Epoch 31/50\n",
      "\u001b[1m16/16\u001b[0m \u001b[32m━━━━━━━━━━━━━━━━━━━━\u001b[0m\u001b[37m\u001b[0m \u001b[1m0s\u001b[0m 8ms/step - accuracy: 0.6246 - loss: 0.0363 - val_accuracy: 0.5772 - val_loss: 0.0397\n",
      "Epoch 32/50\n",
      "\u001b[1m16/16\u001b[0m \u001b[32m━━━━━━━━━━━━━━━━━━━━\u001b[0m\u001b[37m\u001b[0m \u001b[1m0s\u001b[0m 6ms/step - accuracy: 0.6253 - loss: 0.0358 - val_accuracy: 0.5691 - val_loss: 0.0392\n",
      "Epoch 33/50\n",
      "\u001b[1m16/16\u001b[0m \u001b[32m━━━━━━━━━━━━━━━━━━━━\u001b[0m\u001b[37m\u001b[0m \u001b[1m0s\u001b[0m 5ms/step - accuracy: 0.6243 - loss: 0.0353 - val_accuracy: 0.5691 - val_loss: 0.0388\n",
      "Epoch 34/50\n",
      "\u001b[1m16/16\u001b[0m \u001b[32m━━━━━━━━━━━━━━━━━━━━\u001b[0m\u001b[37m\u001b[0m \u001b[1m0s\u001b[0m 5ms/step - accuracy: 0.6292 - loss: 0.0348 - val_accuracy: 0.5691 - val_loss: 0.0383\n",
      "Epoch 35/50\n",
      "\u001b[1m16/16\u001b[0m \u001b[32m━━━━━━━━━━━━━━━━━━━━\u001b[0m\u001b[37m\u001b[0m \u001b[1m0s\u001b[0m 5ms/step - accuracy: 0.6292 - loss: 0.0344 - val_accuracy: 0.5691 - val_loss: 0.0379\n",
      "Epoch 36/50\n",
      "\u001b[1m16/16\u001b[0m \u001b[32m━━━━━━━━━━━━━━━━━━━━\u001b[0m\u001b[37m\u001b[0m \u001b[1m0s\u001b[0m 5ms/step - accuracy: 0.6292 - loss: 0.0339 - val_accuracy: 0.5691 - val_loss: 0.0374\n",
      "Epoch 37/50\n",
      "\u001b[1m16/16\u001b[0m \u001b[32m━━━━━━━━━━━━━━━━━━━━\u001b[0m\u001b[37m\u001b[0m \u001b[1m0s\u001b[0m 6ms/step - accuracy: 0.6247 - loss: 0.0335 - val_accuracy: 0.5772 - val_loss: 0.0370\n",
      "Epoch 38/50\n",
      "\u001b[1m16/16\u001b[0m \u001b[32m━━━━━━━━━━━━━━━━━━━━\u001b[0m\u001b[37m\u001b[0m \u001b[1m0s\u001b[0m 7ms/step - accuracy: 0.6256 - loss: 0.0330 - val_accuracy: 0.5772 - val_loss: 0.0366\n",
      "Epoch 39/50\n",
      "\u001b[1m16/16\u001b[0m \u001b[32m━━━━━━━━━━━━━━━━━━━━\u001b[0m\u001b[37m\u001b[0m \u001b[1m0s\u001b[0m 6ms/step - accuracy: 0.6292 - loss: 0.0326 - val_accuracy: 0.5772 - val_loss: 0.0361\n",
      "Epoch 40/50\n",
      "\u001b[1m16/16\u001b[0m \u001b[32m━━━━━━━━━━━━━━━━━━━━\u001b[0m\u001b[37m\u001b[0m \u001b[1m0s\u001b[0m 9ms/step - accuracy: 0.6292 - loss: 0.0322 - val_accuracy: 0.5772 - val_loss: 0.0357\n",
      "Epoch 41/50\n",
      "\u001b[1m16/16\u001b[0m \u001b[32m━━━━━━━━━━━━━━━━━━━━\u001b[0m\u001b[37m\u001b[0m \u001b[1m0s\u001b[0m 6ms/step - accuracy: 0.6276 - loss: 0.0318 - val_accuracy: 0.5854 - val_loss: 0.0353\n",
      "Epoch 42/50\n",
      "\u001b[1m16/16\u001b[0m \u001b[32m━━━━━━━━━━━━━━━━━━━━\u001b[0m\u001b[37m\u001b[0m \u001b[1m0s\u001b[0m 7ms/step - accuracy: 0.6263 - loss: 0.0314 - val_accuracy: 0.5854 - val_loss: 0.0349\n",
      "Epoch 43/50\n",
      "\u001b[1m16/16\u001b[0m \u001b[32m━━━━━━━━━━━━━━━━━━━━\u001b[0m\u001b[37m\u001b[0m \u001b[1m0s\u001b[0m 6ms/step - accuracy: 0.6227 - loss: 0.0310 - val_accuracy: 0.5854 - val_loss: 0.0346\n",
      "Epoch 44/50\n",
      "\u001b[1m16/16\u001b[0m \u001b[32m━━━━━━━━━━━━━━━━━━━━\u001b[0m\u001b[37m\u001b[0m \u001b[1m0s\u001b[0m 7ms/step - accuracy: 0.6227 - loss: 0.0306 - val_accuracy: 0.5854 - val_loss: 0.0342\n",
      "Epoch 45/50\n",
      "\u001b[1m16/16\u001b[0m \u001b[32m━━━━━━━━━━━━━━━━━━━━\u001b[0m\u001b[37m\u001b[0m \u001b[1m0s\u001b[0m 6ms/step - accuracy: 0.6189 - loss: 0.0302 - val_accuracy: 0.5854 - val_loss: 0.0338\n",
      "Epoch 46/50\n",
      "\u001b[1m16/16\u001b[0m \u001b[32m━━━━━━━━━━━━━━━━━━━━\u001b[0m\u001b[37m\u001b[0m \u001b[1m0s\u001b[0m 8ms/step - accuracy: 0.6168 - loss: 0.0298 - val_accuracy: 0.5935 - val_loss: 0.0334\n",
      "Epoch 47/50\n",
      "\u001b[1m16/16\u001b[0m \u001b[32m━━━━━━━━━━━━━━━━━━━━\u001b[0m\u001b[37m\u001b[0m \u001b[1m0s\u001b[0m 6ms/step - accuracy: 0.6168 - loss: 0.0294 - val_accuracy: 0.5935 - val_loss: 0.0331\n",
      "Epoch 48/50\n",
      "\u001b[1m16/16\u001b[0m \u001b[32m━━━━━━━━━━━━━━━━━━━━\u001b[0m\u001b[37m\u001b[0m \u001b[1m0s\u001b[0m 6ms/step - accuracy: 0.6113 - loss: 0.0291 - val_accuracy: 0.6016 - val_loss: 0.0327\n",
      "Epoch 49/50\n",
      "\u001b[1m16/16\u001b[0m \u001b[32m━━━━━━━━━━━━━━━━━━━━\u001b[0m\u001b[37m\u001b[0m \u001b[1m0s\u001b[0m 6ms/step - accuracy: 0.6110 - loss: 0.0287 - val_accuracy: 0.6016 - val_loss: 0.0324\n",
      "Epoch 50/50\n",
      "\u001b[1m16/16\u001b[0m \u001b[32m━━━━━━━━━━━━━━━━━━━━\u001b[0m\u001b[37m\u001b[0m \u001b[1m0s\u001b[0m 6ms/step - accuracy: 0.6110 - loss: 0.0284 - val_accuracy: 0.6016 - val_loss: 0.0320\n"
     ]
    }
   ],
   "source": [
    "# Train the model\n",
    "history1 = model.fit(X_train, y_train, epochs= Epochs, batch_size=Batch_size , validation_split=0.2)"
   ]
  },
  {
   "cell_type": "markdown",
   "id": "b089e11e-6b6d-4ea3-ae9a-fc3b6741b2c8",
   "metadata": {},
   "source": [
    "#### Model evaluation and Validation"
   ]
  },
  {
   "cell_type": "code",
   "execution_count": 44,
   "id": "570d84eb-f33c-4db4-9d12-c5529cc2d7cc",
   "metadata": {},
   "outputs": [
    {
     "name": "stdout",
     "output_type": "stream",
     "text": [
      "\u001b[1m5/5\u001b[0m \u001b[32m━━━━━━━━━━━━━━━━━━━━\u001b[0m\u001b[37m\u001b[0m \u001b[1m0s\u001b[0m 12ms/step\n",
      "              precision    recall  f1-score   support\n",
      "\n",
      "           0       0.90      0.53      0.66        99\n",
      "           1       0.51      0.89      0.65        55\n",
      "\n",
      "    accuracy                           0.66       154\n",
      "   macro avg       0.70      0.71      0.66       154\n",
      "weighted avg       0.76      0.66      0.66       154\n",
      "\n"
     ]
    }
   ],
   "source": [
    "y_pred2 = (model.predict(X_test) > 0.5).astype(int)\n",
    "print(classification_report(y_test, y_pred2, zero_division=1))"
   ]
  },
  {
   "cell_type": "code",
   "execution_count": 45,
   "id": "4f88b826-0578-431d-a527-8269b1ab6d5e",
   "metadata": {},
   "outputs": [
    {
     "name": "stdout",
     "output_type": "stream",
     "text": [
      "\u001b[1m5/5\u001b[0m \u001b[32m━━━━━━━━━━━━━━━━━━━━\u001b[0m\u001b[37m\u001b[0m \u001b[1m0s\u001b[0m 4ms/step - accuracy: 0.6301 - loss: 0.0143 \n",
      "Test Accuracy: 65.5844\n"
     ]
    }
   ],
   "source": [
    "import logging\n",
    "from sklearn.metrics import precision_score, recall_score, f1_score, confusion_matrix\n",
    "Model_Results =1\n",
    "test_loss1, test_accuracy1 = model.evaluate(X_test, y_test)\n",
    "print(f'Test Accuracy: {test_accuracy1*100:.4f}')\n",
    "precision = precision_score(y_test, y_pred2)\n",
    "recall = recall_score(y_test, y_pred2)\n",
    "f1 = f1_score(y_test, y_pred2)\n",
    "logging.basicConfig(filename='Model_Results.log')\n",
    "Model_Results = f'Experiment Number #{Model_Results}\\n Activation Function : {Activation_func},\\n Optimizer : {Optimizer},\\n Learning Rate : {learning_rate},\\n Momentum : {Momentum},\\n Epochs = {Epochs},\\n Batch Size : {Batch_size},\\n Gamma : {Loss_gamma},\\n Alpha : {Loss_alpha},\\n Accuracy = {test_accuracy1 * 100:.4f},\\n Precision = {precision*100:4f},\\n Recall = {recall*100:4f},\\n F1_Score = {f1*100:4f} \\n\\n'\n",
    "logging.critical(Model_Results)"
   ]
  },
  {
   "cell_type": "code",
   "execution_count": 46,
   "id": "3cfd6624-211e-42ed-be7d-9b48d3157bab",
   "metadata": {},
   "outputs": [
    {
     "name": "stdout",
     "output_type": "stream",
     "text": [
      "[[52 47]\n",
      " [ 6 49]]\n"
     ]
    }
   ],
   "source": [
    "print(confusion_matrix(y_test, y_pred2))"
   ]
  },
  {
   "cell_type": "code",
   "execution_count": 47,
   "id": "5fad01ed-82e2-4f32-9050-55da1b0cadd4",
   "metadata": {},
   "outputs": [
    {
     "data": {
      "text/plain": [
       "<matplotlib.legend.Legend at 0x26b54bbc050>"
      ]
     },
     "execution_count": 47,
     "metadata": {},
     "output_type": "execute_result"
    },
    {
     "data": {
      "image/png": "[encoded data removed]",
      "text/plain": [
       "<Figure size 1200x500 with 2 Axes>"
      ]
     },
     "metadata": {},
     "output_type": "display_data"
    }
   ],
   "source": [
    "plt.figure(figsize=(12, 5))\n",
    "\n",
    "# Plot Loss Curves\n",
    "plt.subplot(1, 2, 1)\n",
    "plt.plot(history1.history['loss'], label='Training Loss')\n",
    "plt.plot(history1.history['val_loss'], label='Validation Loss')\n",
    "plt.title('Loss Curve')\n",
    "plt.xlabel('Epochs')\n",
    "plt.ylabel('Loss')\n",
    "plt.legend()\n",
    "\n",
    "# Plot Accuracy Curves\n",
    "plt.subplot(1, 2, 2)\n",
    "plt.plot(history1.history['accuracy'], label='Training Accuracy')\n",
    "plt.plot(history1.history['val_accuracy'], label='Validation Accuracy')\n",
    "plt.title('Accuracy Curve')\n",
    "plt.xlabel('Epochs')\n",
    "plt.ylabel('Accuracy')\n",
    "plt.legend()"
   ]
  },
  {
   "cell_type": "code",
   "execution_count": null,
   "id": "1a03a5c8-fce9-4b47-bfec-34994e1feda3",
   "metadata": {},
   "outputs": [],
   "source": []
  }
 ],
 "metadata": {
  "kernelspec": {
   "display_name": "Python 3 (ipykernel)",
   "language": "python",
   "name": "python3"
  },
  "language_info": {
   "codemirror_mode": {
    "name": "ipython",
    "version": 3
   },
   "file_extension": ".py",
   "mimetype": "text/x-python",
   "name": "python",
   "nbconvert_exporter": "python",
   "pygments_lexer": "ipython3",
   "version": "3.11.7"
  }
 },
 "nbformat": 4,
 "nbformat_minor": 5
}
